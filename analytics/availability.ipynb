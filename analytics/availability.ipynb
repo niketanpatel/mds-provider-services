{
 "cells": [
  {
   "cell_type": "markdown",
   "metadata": {},
   "source": [
    "# Availability Calculator\n",
    "\n",
    "This tool estimates the average device availability over a period of time.\n",
    "\n",
    "Double-click into the cells below, where it says `'here'`, and adjust the values as necessary.\n",
    "\n",
    "After setting configuration values, select `Kernel` > `Restart & Run All` from the menu."
   ]
  },
  {
   "cell_type": "code",
   "execution_count": null,
   "metadata": {},
   "outputs": [],
   "source": [
    "from datetime import datetime, timedelta\n",
    "import time\n",
    "import query\n",
    "from measure import DeviceCounter\n",
    "import pandas\n",
    "from statistics import mean"
   ]
  },
  {
   "cell_type": "markdown",
   "metadata": {},
   "source": [
    "## `provider_name`\n",
    "\n",
    "Valid choices are (casing matters):\n",
    "\n",
    "* `bird`\n",
    "* `JUMP`\n",
    "* `Lime`\n",
    "* `Lyft`"
   ]
  },
  {
   "cell_type": "code",
   "execution_count": null,
   "metadata": {},
   "outputs": [],
   "source": [
    "### Configuration ###\n",
    "\n",
    "provider_name = 'here'\n",
    "\n",
    "#####################\n",
    "\n",
    "print(f\"Provider: {provider_name}\")"
   ]
  },
  {
   "cell_type": "markdown",
   "metadata": {},
   "source": [
    "## `vehicle_type`\n",
    "\n",
    "Valid choices are (casing matters):\n",
    "\n",
    "* `bicycle` - `JUMP` only\n",
    "* `scooter` - all providers"
   ]
  },
  {
   "cell_type": "code",
   "execution_count": null,
   "metadata": {},
   "outputs": [],
   "source": [
    "### Configuration ###\n",
    "\n",
    "vehicle_type = 'here'\n",
    "\n",
    "#####################\n",
    "\n",
    "print(f\"Vehicle Type: {vehicle_type}\")"
   ]
  },
  {
   "cell_type": "markdown",
   "metadata": {},
   "source": [
    "## `start_date`:"
   ]
  },
  {
   "cell_type": "code",
   "execution_count": null,
   "metadata": {},
   "outputs": [],
   "source": [
    "### Configuration ###\n",
    "\n",
    "start_year = 2018\n",
    "start_month = 11\n",
    "start_day = 0\n",
    "\n",
    "#####################\n",
    "\n",
    "start_date = datetime(start_year, start_month, start_day, 0, 0, 0)\n",
    "print(\"Starting:\", start_date)"
   ]
  },
  {
   "cell_type": "markdown",
   "metadata": {},
   "source": [
    "## `end_date`:"
   ]
  },
  {
   "cell_type": "code",
   "execution_count": null,
   "metadata": {},
   "outputs": [],
   "source": [
    "### Configuration ###\n",
    "\n",
    "end_year = 2018\n",
    "end_month = 11\n",
    "end_day = 0\n",
    "\n",
    "#####################\n",
    "\n",
    "end_date = datetime(end_year, end_month, end_day, 23, 59, 59)\n",
    "print(\"Ending:\", end_date)"
   ]
  },
  {
   "cell_type": "markdown",
   "metadata": {},
   "source": [
    "## Query for availability data:"
   ]
  },
  {
   "cell_type": "code",
   "execution_count": null,
   "metadata": {},
   "outputs": [],
   "source": [
    "q = query.Availability(start_date, end_date, vehicle_types=vehicle_type, table=\"csm_availability\", local=True, debug=True)\n",
    "data = q.get(provider_name=provider_name)"
   ]
  },
  {
   "cell_type": "markdown",
   "metadata": {},
   "source": [
    "## Count availability in a partitioned time range:"
   ]
  },
  {
   "cell_type": "code",
   "execution_count": null,
   "metadata": {},
   "outputs": [],
   "source": [
    "# create a device counter for the time range, assuming local time\n",
    "devices = DeviceCounter(start_date, end_date, local=True, debug=True)\n",
    "\n",
    "# create the interval partition and aggregate counts\n",
    "partition = devices.count(data).partition()"
   ]
  },
  {
   "cell_type": "code",
   "execution_count": null,
   "metadata": {},
   "outputs": [],
   "source": [
    "partition.describe()"
   ]
  },
  {
   "cell_type": "markdown",
   "metadata": {},
   "source": [
    "## Average availability:\n",
    "\n",
    "Over the computed interval partition."
   ]
  },
  {
   "cell_type": "code",
   "execution_count": null,
   "metadata": {},
   "outputs": [],
   "source": [
    "overall_avg = devices.average()\n",
    "print(f\"Overall average: {overall_avg}\")"
   ]
  },
  {
   "cell_type": "markdown",
   "metadata": {},
   "source": [
    "## Count availability (again), day-by-day:\n",
    "\n",
    "Calculate average availability for each day in the range `start_date` to `end_date`.\n",
    "\n",
    "At the end, calculate the overall average."
   ]
  },
  {
   "cell_type": "code",
   "execution_count": null,
   "metadata": {},
   "outputs": [],
   "source": [
    "oneday = timedelta(days=1)\n",
    "counts = {}\n",
    "start = start_date\n",
    "\n",
    "while start < end_date:\n",
    "    end = start + oneday\n",
    "    print(f\"Counting {start.strftime('%Y-%m-%d')} to {end.strftime('%Y-%m-%d')}\")\n",
    "    \n",
    "    q = query.Availability(start, end, vehicle_types=vehicle_type, table=\"csm_availability\", local=True, debug=False)\n",
    "    data = q.get(provider_name=provider_name)\n",
    "    print(f\"{len(data)} availability records in time period\")\n",
    "    \n",
    "    counter = DeviceCounter(start, start + oneday, local=True, debug=False)\n",
    "    counts[start] = counter.count(data)\n",
    "   \n",
    "    start = start + oneday\n",
    "    print()\n",
    "\n",
    "print(\"Done counting. Daily averages:\")\n",
    "print()\n",
    "\n",
    "for date, count in counts.items():\n",
    "    print(f\"{provider_name},{vehicle_type},{date.strftime('%Y-%m-%d')},{count.average()},{overall_avg}\")"
   ]
  }
 ],
 "metadata": {
  "kernelspec": {
   "display_name": "Python 3",
   "language": "python",
   "name": "python3"
  },
  "language_info": {
   "codemirror_mode": {
    "name": "ipython",
    "version": 3
   },
   "file_extension": ".py",
   "mimetype": "text/x-python",
   "name": "python",
   "nbconvert_exporter": "python",
   "pygments_lexer": "ipython3",
   "version": "3.6.3"
  }
 },
 "nbformat": 4,
 "nbformat_minor": 2
}
